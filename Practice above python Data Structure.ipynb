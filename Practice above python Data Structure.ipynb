{
 "cells": [
  {
   "cell_type": "markdown",
   "id": "f6aef902",
   "metadata": {},
   "source": [
    "# Practice above Data Structure In Python"
   ]
  },
  {
   "cell_type": "code",
   "execution_count": 8,
   "id": "59bd3438",
   "metadata": {},
   "outputs": [
    {
     "name": "stdout",
     "output_type": "stream",
     "text": [
      "list1 = [1, 2, 3, 4, 5]\n",
      "list2 = [1, 2, 3, 4, 5, 6, 7, 8, 9, 10]\n",
      "list1+list2 = [1, 2, 3, 4, 5, 1, 2, 3, 4, 5, 6, 7, 8, 9, 10]\n"
     ]
    }
   ],
   "source": [
    "#1.Create two list and append them and print the final list.\n",
    "list1=[1,2,3,4,5]\n",
    "print('list1 =',list1)\n",
    "list2=[1,2,3,4,5,6,7,8,9,10]\n",
    "print('list2 =',list2)\n",
    "list1.extend(list2)\n",
    "print('list1+list2 =',list1)"
   ]
  },
  {
   "cell_type": "code",
   "execution_count": 10,
   "id": "3795d0a5",
   "metadata": {},
   "outputs": [
    {
     "name": "stdout",
     "output_type": "stream",
     "text": [
      "The largest value from the list is = 875\n"
     ]
    }
   ],
   "source": [
    "#2.Create a list and find the largest number from the list.\n",
    "list3 = [10,20,120,34,523,875]\n",
    "print('The largest value from the list is =',max(list3))"
   ]
  },
  {
   "cell_type": "code",
   "execution_count": 11,
   "id": "a2aa945b",
   "metadata": {},
   "outputs": [
    {
     "name": "stdout",
     "output_type": "stream",
     "text": [
      "the sum of all the emelemnts in list4 is = 55\n"
     ]
    }
   ],
   "source": [
    "#3.Write a Python program to sum all the items in a list.\n",
    "\n",
    "list4=[1,2,3,4,5,6,7,8,9,10]\n",
    "print('the sum of all the emelemnts in list4 is =',sum(list4))"
   ]
  },
  {
   "cell_type": "code",
   "execution_count": 19,
   "id": "8e1f7472",
   "metadata": {},
   "outputs": [
    {
     "name": "stdout",
     "output_type": "stream",
     "text": [
      "['Green', 'White', 'Black', 'Pink', 'Yellow']\n",
      "Yellow\n",
      "['Green', 'White', 'Black', 'Pink']\n",
      "Pink\n",
      "['Green', 'White', 'Black']\n"
     ]
    }
   ],
   "source": [
    "\"\"\"Write a Python program to print a specified list after removing the 0th, 4th and 5th elements.\n",
    "\n",
    "Sample List : ['Red', 'Green', 'White', 'Black', 'Pink', 'Yellow']\n",
    "\n",
    "Expected Output : ['Green', 'White', 'Black']\"\"\"\n",
    "\n",
    "list5 = ['Red', 'Green', 'White', 'Black', 'Pink', 'Yellow']\n",
    "\n",
    "list5.remove('Red')\n",
    "print(list5)\n",
    "print(list5.pop())\n",
    "print(list5)\n",
    "print(list5.pop())\n",
    "print(list5)"
   ]
  },
  {
   "cell_type": "code",
   "execution_count": 28,
   "id": "317585cb",
   "metadata": {},
   "outputs": [
    {
     "name": "stdout",
     "output_type": "stream",
     "text": [
      "(1, 2, 3, 4, 5, 6, 6, 7)\n",
      "<class 'tuple'>\n",
      "<class 'list'>\n",
      "[1, 2, 3, 4, 5, 6, 6, 7]\n",
      "New list is = [1, 2, 3, 4, 5, 6, 6, 7, 8]\n",
      "New tuple is= (1, 2, 3, 4, 5, 6, 6, 7, 8)\n"
     ]
    }
   ],
   "source": [
    "#5.Write a Python program to add an item in a tuple.\n",
    "\n",
    "tuple1=(1,2,3,4,5,6,6,7)\n",
    "print(tuple1)\n",
    "print(type(tuple1))\n",
    "\n",
    "list6= list(tuple1)\n",
    "print(type(list6))\n",
    "print(list6)\n",
    "list6.append(8)\n",
    "print('New list is =',list6)\n",
    "tuple1=tuple(list6)\n",
    "print('New tuple is=',tuple1)"
   ]
  },
  {
   "cell_type": "code",
   "execution_count": 1,
   "id": "cc035dfb",
   "metadata": {},
   "outputs": [
    {
     "name": "stdout",
     "output_type": "stream",
     "text": [
      "The original tuple is = (12, 1, 23, 12, 3, 0)\n",
      "The reversed tuple is = (0, 3, 12, 23, 1, 12)\n"
     ]
    }
   ],
   "source": [
    "#6.Write a Python program to reverse a tuple.\n",
    "\n",
    "tuple2 = (12,1,23,12,3,0)\n",
    "print('The original tuple is =',tuple2)\n",
    "tuple2 = tuple(reversed(tuple2))\n",
    "print('The reversed tuple is =',tuple2)"
   ]
  },
  {
   "cell_type": "code",
   "execution_count": null,
   "id": "65370ba6",
   "metadata": {},
   "outputs": [],
   "source": [
    "#7.Write a Python program to remove an item from a set if it is present in the set.\n",
    "\n",
    "set_1={1,2,3,4,5}\n",
    "\n",
    "list7 = list(set_1)\n",
    "\n",
    "hold = int(input(\"Please enter the value you want to remove =\"))\n",
    "\n",
    "flag=0\n",
    "\n",
    "for i in list7:\n",
    "    if(hold == i):\n",
    "        flag=1\n",
    "if(flag==1):\n",
    "    set_1.remove(hold)\n",
    "    print(\"The new set is :\",set_1)\n",
    "else:\n",
    "    print(\"%d is not present in the set\"%(hold))\n",
    "    "
   ]
  },
  {
   "cell_type": "code",
   "execution_count": null,
   "id": "ef184ea0",
   "metadata": {},
   "outputs": [],
   "source": [
    "#8.Write a Python program to find maximum and the minimum value in a set.\n",
    "size = int(input(\"Please enter the size of the list\"))\n",
    "\n",
    "for i in range(size):\n",
    "    val = int(input(\"please enter the value for set of %d is=\"%(i)))\n",
    "    set2.add(val)\n",
    "print (set2)"
   ]
  },
  {
   "cell_type": "code",
   "execution_count": null,
   "id": "269e625d",
   "metadata": {},
   "outputs": [],
   "source": []
  }
 ],
 "metadata": {
  "kernelspec": {
   "display_name": "Python 3 (ipykernel)",
   "language": "python",
   "name": "python3"
  },
  "language_info": {
   "codemirror_mode": {
    "name": "ipython",
    "version": 3
   },
   "file_extension": ".py",
   "mimetype": "text/x-python",
   "name": "python",
   "nbconvert_exporter": "python",
   "pygments_lexer": "ipython3",
   "version": "3.9.13"
  }
 },
 "nbformat": 4,
 "nbformat_minor": 5
}
