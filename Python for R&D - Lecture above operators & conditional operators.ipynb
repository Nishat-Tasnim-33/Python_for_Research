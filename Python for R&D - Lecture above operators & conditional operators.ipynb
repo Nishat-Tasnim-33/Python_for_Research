{
 "cells": [
  {
   "cell_type": "markdown",
   "id": "c2c4f1a7",
   "metadata": {},
   "source": [
    "# # Python for R&D - Lecture above operators & conditional operators"
   ]
  },
  {
   "cell_type": "code",
   "execution_count": 3,
   "id": "9cb91639",
   "metadata": {},
   "outputs": [
    {
     "name": "stdout",
     "output_type": "stream",
     "text": [
      "Enter the value of A & B: 45 25\n",
      "The is not 45 it is 70\n"
     ]
    }
   ],
   "source": [
    "'''#1.Take two number as input using one input function and calculate the sum of them and\n",
    "check the sum is 45 or not using identity operators.'''\n",
    "\n",
    "a,b = map(int, input(\"Enter the value of A & B: \").split())\n",
    "sum=a+b\n",
    "if(sum==45):print(\"The sum of %d & %d is 45\"%(a,b))\n",
    "else:print(\"The is not 45 it is %d\"%(a+b))"
   ]
  },
  {
   "cell_type": "code",
   "execution_count": 5,
   "id": "1db16604",
   "metadata": {},
   "outputs": [
    {
     "name": "stdout",
     "output_type": "stream",
     "text": [
      "Enter the string of A & B: nishat nishat\n",
      "both string are same\n"
     ]
    }
   ],
   "source": [
    "'''2.Input two string and check both are same or not,\n",
    "in here you must use identity and comparison operator seperately.'''\n",
    "\n",
    "a,b = map(str, input(\"Enter the string of A & B: \").split())\n",
    "if(a==b):print(\"both string are same\")\n",
    "else:print(\"the strings are not same\")"
   ]
  },
  {
   "cell_type": "code",
   "execution_count": 7,
   "id": "d8389da8",
   "metadata": {},
   "outputs": [
    {
     "name": "stdout",
     "output_type": "stream",
     "text": [
      "Enter the string of A & B: 4 4\n",
      "The exponen is  256\n"
     ]
    }
   ],
   "source": [
    "'''3.Input two number as string \n",
    "and consider the first one as base and perform exponent operation on it.'''\n",
    "\n",
    "a,b = map(str, input(\"Enter the string of A & B: \").split())\n",
    "exponen= (int(a)**int(b))\n",
    "print(\"The exponen is \",exponen)"
   ]
  },
  {
   "cell_type": "code",
   "execution_count": 8,
   "id": "d46d6a32",
   "metadata": {},
   "outputs": [
    {
     "name": "stdout",
     "output_type": "stream",
     "text": [
      "Enter the value of A & B: 5 3\n",
      "The normal div is 1.666667 & floor div is 1.000000 and the difference is 0.666667\n"
     ]
    }
   ],
   "source": [
    "'''4.Input two number and \n",
    "find the difference between the division and floor division of both numbers.'''\n",
    "a,b = map(int, input(\"Enter the value of A & B: \").split())\n",
    "div1 = float(a/b)\n",
    "div2 = (a//b)\n",
    "dif = (div1-div2)\n",
    "print(\"The normal div is %f & floor div is %f and the difference is %f\"%(div1,div2,dif))"
   ]
  },
  {
   "cell_type": "code",
   "execution_count": 10,
   "id": "41f5a3b2",
   "metadata": {},
   "outputs": [
    {
     "name": "stdout",
     "output_type": "stream",
     "text": [
      "True\n"
     ]
    }
   ],
   "source": [
    "'''5.Take a string like \"Online free course:: Python for research\" and check the word 'python' is in the sentence or not.\n",
    "'''\n",
    "\n",
    "string = \"Online free course:: Python for research\"\n",
    "\n",
    "hold= \"Python\" in string\n",
    "print(hold)"
   ]
  },
  {
   "cell_type": "code",
   "execution_count": 3,
   "id": "4c0c5c3c",
   "metadata": {},
   "outputs": [
    {
     "name": "stdout",
     "output_type": "stream",
     "text": [
      "Enter the value of A & B: 10 25\n",
      "The Average is:  17.5\n",
      "B is grater then Average\n"
     ]
    }
   ],
   "source": [
    "'''6.Take two number and find the number that is greater than the average of the two numbers.'''\n",
    "\n",
    "a,b = map(int,input(\"Enter the value of A & B: \").split())\n",
    "av = (a+b)/2\n",
    "print(\"The Average is: \",av)\n",
    "if(a>av):print(\"A is greater then Average\")\n",
    "elif(b>av):print(\"B is grater then Average\")\n",
    "else:print(\"Non of A & B is grater then zero\")\n",
    "\n"
   ]
  },
  {
   "cell_type": "code",
   "execution_count": null,
   "id": "9e8db452",
   "metadata": {},
   "outputs": [],
   "source": []
  }
 ],
 "metadata": {
  "kernelspec": {
   "display_name": "Python 3 (ipykernel)",
   "language": "python",
   "name": "python3"
  },
  "language_info": {
   "codemirror_mode": {
    "name": "ipython",
    "version": 3
   },
   "file_extension": ".py",
   "mimetype": "text/x-python",
   "name": "python",
   "nbconvert_exporter": "python",
   "pygments_lexer": "ipython3",
   "version": "3.9.13"
  }
 },
 "nbformat": 4,
 "nbformat_minor": 5
}
