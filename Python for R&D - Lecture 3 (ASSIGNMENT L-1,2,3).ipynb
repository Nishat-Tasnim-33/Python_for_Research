{
 "cells": [
  {
   "cell_type": "markdown",
   "id": "77ea5309",
   "metadata": {},
   "source": [
    "# Python for R&D - Lecture 3 (ASSIGNMENT L-1,2,3)"
   ]
  },
  {
   "cell_type": "code",
   "execution_count": 3,
   "id": "f6ab8047",
   "metadata": {},
   "outputs": [
    {
     "name": "stdout",
     "output_type": "stream",
     "text": [
      "Nishat Tasnim\n"
     ]
    }
   ],
   "source": [
    "#1. Print your name using python.\n",
    "\n",
    "print(\"Nishat Tasnim\")"
   ]
  },
  {
   "cell_type": "code",
   "execution_count": 4,
   "id": "abb39abe",
   "metadata": {},
   "outputs": [
    {
     "name": "stdout",
     "output_type": "stream",
     "text": [
      "A= 15 & B=25\n"
     ]
    }
   ],
   "source": [
    "#A = 15, B = 25, now print A and B\n",
    "\n",
    "A=15\n",
    "B=25\n",
    "print(\"A= %d & B=%d\"%(A,B))"
   ]
  },
  {
   "cell_type": "code",
   "execution_count": 6,
   "id": "91c08e01",
   "metadata": {},
   "outputs": [
    {
     "name": "stdout",
     "output_type": "stream",
     "text": [
      "a,b,c10 20 30\n",
      "A=10 , B=20, C=30\n"
     ]
    }
   ],
   "source": [
    "#3. Take three variables and take three number on it and print the numbers\n",
    "\n",
    "a,b,c = map(int,input(\"a,b,c\").split())\n",
    "\n",
    "print(\"A=%d , B=%d, C=%d\"%(a,b,c))"
   ]
  },
  {
   "cell_type": "code",
   "execution_count": 9,
   "id": "b7cf19cf",
   "metadata": {},
   "outputs": [
    {
     "name": "stdout",
     "output_type": "stream",
     "text": [
      "Please enter a & b: 10 20\n",
      "A=10 , B=20, A*B=200\n"
     ]
    }
   ],
   "source": [
    "#4. Take two numbers and find their multiplication and print it.\n",
    "\n",
    "a,b = map(int,input(\"Please enter a & b: \").split())\n",
    "\n",
    "print(\"A=%d , B=%d, A*B=%d\"%(a,b,a*b))"
   ]
  },
  {
   "cell_type": "code",
   "execution_count": 11,
   "id": "ec8fee60",
   "metadata": {},
   "outputs": [
    {
     "name": "stdout",
     "output_type": "stream",
     "text": [
      "Please enter the value of A: 12.56\n",
      "Please enter the value of b: 3.215\n",
      "a=12.560000 & b=3.215000 and a/b=3.907\n"
     ]
    }
   ],
   "source": [
    "#5. Take two float number and divide the first number by the second number and print the answer.\n",
    "\n",
    "\n",
    "a = float(input(\"Please enter the value of A: \"))\n",
    "b = float(input(\"Please enter the value of b: \"))\n",
    "\n",
    "print(\"a=%f & b=%f and a/b=%.3f\"%(a,b,a/b))"
   ]
  },
  {
   "cell_type": "code",
   "execution_count": 13,
   "id": "373aad0e",
   "metadata": {},
   "outputs": [
    {
     "name": "stdout",
     "output_type": "stream",
     "text": [
      "Please enter a & b: 10 20\n",
      "<class 'int'> <class 'int'>\n"
     ]
    }
   ],
   "source": [
    "#6. Take two number and print their type, then find their sum and also print the type of the sum.\n",
    "\n",
    "a,b = map(int,input(\"Please enter a & b: \").split())\n",
    "print(type(a), type(b))"
   ]
  },
  {
   "cell_type": "code",
   "execution_count": 28,
   "id": "2cc2f329",
   "metadata": {},
   "outputs": [
    {
     "name": "stdout",
     "output_type": "stream",
     "text": [
      "Please enter the int type of a & b: 10 20\n",
      "The addtion of 10+20= 30\n",
      "The subtraction of 10-20 = -10\n",
      "The multiplication of 10*20 = 200\n",
      "The devision of 10 / 20 = 0\n"
     ]
    }
   ],
   "source": [
    "#7. Take 2 int numbers and find the addition, subtraction, multiplication and devision of the two numbers.\n",
    "\n",
    "a,b = map(int,input(\"Please enter the int type of a & b: \").split())\n",
    "print(\"The addtion of %d+%d= %d\" %(a,b,a+b))\n",
    "print(\"The subtraction of %d-%d = %d\"%(a,b,a-b))\n",
    "print(\"The multiplication of %d*%d = %d\"%(a,b,a*b))\n",
    "print(\"The devision of %d / %d = %d\"%(a,b,a/b))\n"
   ]
  },
  {
   "cell_type": "code",
   "execution_count": 30,
   "id": "aa33602c",
   "metadata": {},
   "outputs": [
    {
     "name": "stdout",
     "output_type": "stream",
     "text": [
      "Please enter the value of a,b,c:10 20 30\n",
      "The average is (10+20+30)/3=20\n"
     ]
    }
   ],
   "source": [
    "#8. Take three number and find their average.\n",
    "\n",
    "a,b,c = map(int,input(\"Please enter the value of a,b,c:\").split())\n",
    "print(\"The average is (%d+%d+%d)/3=%d\"%(a,b,c,(a+b+c)/3))"
   ]
  },
  {
   "cell_type": "code",
   "execution_count": 33,
   "id": "e6b2d5b3",
   "metadata": {},
   "outputs": [
    {
     "name": "stdout",
     "output_type": "stream",
     "text": [
      "Enter the integer number: 10\n",
      "Enter the float number: 25.25\n",
      "The division is 2.525000\n"
     ]
    }
   ],
   "source": [
    "#9. Take one float and one int number and perform division operation between them.\n",
    "a = int(input(\"Enter the integer number: \"))\n",
    "b = float(input(\"Enter the float number: \"))\n",
    "\n",
    "div = (b/a)\n",
    "print(\"The division is %f\"%div)"
   ]
  },
  {
   "cell_type": "code",
   "execution_count": 35,
   "id": "06627931",
   "metadata": {},
   "outputs": [
    {
     "name": "stdout",
     "output_type": "stream",
     "text": [
      "25\n",
      "10\n",
      "35\n"
     ]
    }
   ],
   "source": [
    "#10. Take two number as string, convert them to int and find their sum.\n",
    "\n",
    "num1 = input()\n",
    "num2= input()\n",
    "\n",
    "sum= (int(num1)+int(num2))\n",
    "print(sum)"
   ]
  },
  {
   "cell_type": "code",
   "execution_count": null,
   "id": "a13ed911",
   "metadata": {},
   "outputs": [],
   "source": []
  }
 ],
 "metadata": {
  "kernelspec": {
   "display_name": "Python 3 (ipykernel)",
   "language": "python",
   "name": "python3"
  },
  "language_info": {
   "codemirror_mode": {
    "name": "ipython",
    "version": 3
   },
   "file_extension": ".py",
   "mimetype": "text/x-python",
   "name": "python",
   "nbconvert_exporter": "python",
   "pygments_lexer": "ipython3",
   "version": "3.9.13"
  }
 },
 "nbformat": 4,
 "nbformat_minor": 5
}
