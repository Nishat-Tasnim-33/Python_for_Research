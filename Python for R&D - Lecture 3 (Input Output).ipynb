{
 "cells": [
  {
   "cell_type": "markdown",
   "id": "cbee83c8",
   "metadata": {},
   "source": [
    "# Python for R&D - Lecture 3 (Input Output)\n"
   ]
  },
  {
   "cell_type": "code",
   "execution_count": 1,
   "id": "48fea788",
   "metadata": {},
   "outputs": [
    {
     "name": "stdout",
     "output_type": "stream",
     "text": [
      "5.200000 / 2.200000 which is val3 2.364\n",
      "2\n"
     ]
    },
    {
     "data": {
      "text/plain": [
       "'this is\\na multiline comment'"
      ]
     },
     "execution_count": 1,
     "metadata": {},
     "output_type": "execute_result"
    }
   ],
   "source": [
    "val1= 5.2 \n",
    "val2= 2.2\n",
    "\n",
    "val3= val1/val2\n",
    "print (\"%f / %f which is val3 %.3f\" %(val1,val2,val3))\n",
    "val3= int (val3)\n",
    "print(val3)\n",
    "\n",
    "'''this is\n",
    "a multiline comment'''"
   ]
  },
  {
   "cell_type": "code",
   "execution_count": 5,
   "id": "318f6881",
   "metadata": {},
   "outputs": [
    {
     "name": "stdout",
     "output_type": "stream",
     "text": [
      "5.2 / 2.2  =  2.3636363636363633\n",
      "2\n"
     ]
    }
   ],
   "source": [
    "val1= 5.2 \n",
    "val2= 2.2\n",
    "\n",
    "val3= val1/val2\n",
    "print (val1, \"/\" ,val2, \" = \" ,val3 )\n",
    "val3= int (val3)\n",
    "print(val3)"
   ]
  },
  {
   "cell_type": "code",
   "execution_count": 3,
   "id": "192940f7",
   "metadata": {},
   "outputs": [
    {
     "name": "stdout",
     "output_type": "stream",
     "text": [
      "please enter the price of car: 522\n",
      "The price of car is : 522\n",
      "Please enter the price of the key: 565\n",
      "The price of the car is :  565\n",
      "The price of the car is 522 & the price of the key is 565 && the sum is 1087\n"
     ]
    }
   ],
   "source": [
    "car_pr = int (input(\"please enter the price of car: \"))\n",
    "print(\"The price of car is :\", car_pr)\n",
    "kp = int(input(\"Please enter the price of the key: \"))\n",
    "print(\"The price of the car is : \", kp)\n",
    "sum = car_pr+kp\n",
    "print(\"The price of the car is %d & the price of the key is %d && the sum is %d\"%(car_pr,kp,sum))"
   ]
  },
  {
   "cell_type": "code",
   "execution_count": null,
   "id": "863c8037",
   "metadata": {},
   "outputs": [],
   "source": [
    "carprice,keyprice= map(int,input(\"Please enter the car price & key price:\").split())\n",
    "sum= carprice+keyprice\n",
    "print(\"The price of the car is %d & the price of the key is %d && the sum is %d\"%(carprice,keyprice,sum))"
   ]
  },
  {
   "cell_type": "code",
   "execution_count": null,
   "id": "c77f97d4",
   "metadata": {},
   "outputs": [],
   "source": [
    "n=56\n",
    "n"
   ]
  },
  {
   "cell_type": "code",
   "execution_count": null,
   "id": "ffdba33b",
   "metadata": {},
   "outputs": [],
   "source": []
  }
 ],
 "metadata": {
  "kernelspec": {
   "display_name": "Python 3 (ipykernel)",
   "language": "python",
   "name": "python3"
  },
  "language_info": {
   "codemirror_mode": {
    "name": "ipython",
    "version": 3
   },
   "file_extension": ".py",
   "mimetype": "text/x-python",
   "name": "python",
   "nbconvert_exporter": "python",
   "pygments_lexer": "ipython3",
   "version": "3.9.13"
  }
 },
 "nbformat": 4,
 "nbformat_minor": 5
}
